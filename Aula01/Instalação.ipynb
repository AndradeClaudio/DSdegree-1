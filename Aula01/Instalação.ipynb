{
 "cells": [
  {
   "cell_type": "markdown",
   "id": "1d36bb0b",
   "metadata": {},
   "source": [
    "# Sejam bem vindos"
   ]
  },
  {
   "cell_type": "markdown",
   "id": "7e6fcb59",
   "metadata": {},
   "source": [
    "Apresentação"
   ]
  },
  {
   "cell_type": "markdown",
   "id": "9486407c",
   "metadata": {},
   "source": [
    "![title](figs/apres.png)"
   ]
  },
  {
   "cell_type": "markdown",
   "id": "9ba5406e",
   "metadata": {},
   "source": [
    "## Instalação"
   ]
  },
  {
   "cell_type": "markdown",
   "id": "64be9549",
   "metadata": {
    "ExecuteTime": {
     "end_time": "2021-06-06T22:09:47.106798Z",
     "start_time": "2021-06-06T22:09:47.088861Z"
    }
   },
   "source": [
    "### Anaconda Navigator\n",
    "\n",
    "https://www.anaconda.com/products/individual-b\n",
    "\n",
    "https://docs.anaconda.com/anaconda/navigator/"
   ]
  },
  {
   "cell_type": "markdown",
   "id": "66a7e89f",
   "metadata": {},
   "source": [
    "Para usuários windows, clicar em "
   ]
  },
  {
   "cell_type": "markdown",
   "id": "e990e8b2",
   "metadata": {},
   "source": [
    "![title](figs/anaconda_path.png)"
   ]
  },
  {
   "cell_type": "markdown",
   "id": "89fa592f",
   "metadata": {},
   "source": [
    "Esperar, esperar a instalação ser concluída\n",
    "\n",
    "\n",
    "Abrir anaconda navigator"
   ]
  },
  {
   "cell_type": "markdown",
   "id": "a0c2f2d5",
   "metadata": {},
   "source": [
    "![title](figs/anac.png)"
   ]
  },
  {
   "cell_type": "markdown",
   "id": "40d8634b",
   "metadata": {},
   "source": [
    "Vamos usar o prompt/terminal"
   ]
  },
  {
   "cell_type": "markdown",
   "id": "5be576e8",
   "metadata": {},
   "source": [
    "![title](figs/prompt.png)"
   ]
  },
  {
   "cell_type": "markdown",
   "id": "04849754",
   "metadata": {},
   "source": [
    "Problemas com permissão"
   ]
  },
  {
   "cell_type": "markdown",
   "id": "e8110351",
   "metadata": {},
   "source": [
    "![title](figs/permissao.png)"
   ]
  },
  {
   "cell_type": "markdown",
   "id": "40644bb3",
   "metadata": {},
   "source": [
    "no prompt ou terminal"
   ]
  },
  {
   "cell_type": "code",
   "execution_count": null,
   "id": "079f735d",
   "metadata": {},
   "outputs": [],
   "source": [
    "# Criar um ambiente\n",
    "\n",
    "conda create --name dsdegree python\n",
    "\n",
    "# Para ver ambientes\n",
    "\n",
    "conda info --envs\n",
    "\n",
    "#acessar o ambiente\n",
    "\n",
    "conda activate dsdegree\n",
    "\n",
    "#sair do ambiente\n",
    "\n",
    "conda deactivate\n",
    "\n",
    "# ver versão do python\n",
    "\n",
    "python --version\n",
    "\n",
    "# instalar jupyter notebook\n",
    "\n",
    "conda install -c anaconda jupyter # [-c é --channel (instalar de um canal específico)]\n",
    "\n",
    "#abrir\n",
    "python -m notebook"
   ]
  },
  {
   "cell_type": "markdown",
   "id": "66bf8bfe",
   "metadata": {},
   "source": [
    "**Jupyter**  \n",
    "Os notebooks são uma forma de programação literária (documentação seja escrita como uma narrativa junto ao código em vez de ser uma coisa independente)\n",
    "\n",
    "O ponto central é o servidor do notebook. A conexão é feita no servidor por seu navegador, e o notebook é carregado como um aplicativo web. O código escrito nesse aplicativo é mandado pelo servidor para o núcleo. O núcleo roda o código e o manda de volta para o servidor, então, o output é carregado no navegador. Ao salvar um notebook, ele é escrito no servidor como um arquivo JSON com a extensão .ipynb. O novo nome, Jupyter, vem da combinação dos nomes Julia, Python e R. Outra vantagem é que o servidor pode ser rodado e acessado via Internet. Normalmente, você rodará o servidor em sua própria máquina, onde todos os dados e arquivos notebook estão salvos. Mas, é possível também configurar um servidor em uma máquina remota ou instância de nuvem, como a EC2, da Amazon. Então, você pode acessar os notebooks em um navegador de qualquer lugar do planeta.\n",
    "\n",
    "\n",
    "conda install jupyter notebook  \n",
    "jupyter notebook           #lançar um servidor notebook e os arquivos serão salvos nesse diretório . A prática padrão é inicializar o servidor no diretório onde os notebooks se encontram.\n",
    "Ele vai abrir em http://localhost:8888 onde localhost significa o seu computador e 8888 é a porta que o servidor está usando núcleos (kernels). No meu caso, estou rodando o servidor em um ambiente Python 3, então, tenho um núcleo Python 3 disponível.\n",
    "Também é possível desligar o servidor inteiro ao pressionar as teclas control + C duas vezes no terminal. De novo, isso desligará imediatamente todos os notebooks, então, tenha certeza de que tudo está salvo!\n",
    "O pequeno teclado é a paleta de comandos. Ao clicar nela, aparecerá um painel com uma barra de pesquisa em que você pode procurar por diversos comandos   \n",
    "Links:     [Let's Code home page](https://letscode.com.br/)  \n",
    "Enfase:      Para itálico, inicie e termine o texto com um asterisco ou sublinhado, `_gelato_` ou `*gelato*` geram gelato. Texto em negrito usa dois símbolos, **abacate** ou __abacate__ geram abacate.\n",
    "Código  \n",
    "Existem duas maneiras diferentes de mostrar código, dentro do texto ou como um bloco de código separado do texto. Para o formato dentro do texto, insira acentos graves antes e depois do código. Por exemplo, `string.punctuation` gera string.punctuation.\n",
    "Expressões matemáticas É possível criar expressões matemáticas em células markdown usando os símbolos do LaTeX\n",
    "\n",
    "Cheat sheet:     https://github.com/adam-p/markdown-here/wiki/Markdown-Cheatsheet"
   ]
  },
  {
   "cell_type": "markdown",
   "id": "f4614b03",
   "metadata": {},
   "source": [
    "![title](figs/activate.png)"
   ]
  },
  {
   "cell_type": "markdown",
   "id": "7bae9b99",
   "metadata": {},
   "source": [
    "![title](figs/local.png)"
   ]
  },
  {
   "cell_type": "markdown",
   "id": "7192f3cb",
   "metadata": {},
   "source": [
    "![title](figs/jupyter.png)"
   ]
  },
  {
   "cell_type": "markdown",
   "id": "a555d63d",
   "metadata": {},
   "source": [
    "Criar a pasta DSdegree (por exemplo)  \n",
    "New -> python 3"
   ]
  },
  {
   "cell_type": "markdown",
   "id": "081a4d1b",
   "metadata": {},
   "source": [
    "![title](figs/jupyter2.png)"
   ]
  },
  {
   "cell_type": "markdown",
   "id": "ad829c65",
   "metadata": {},
   "source": [
    "Não conseguiu?\n",
    "\n",
    "Alternativas:\n",
    "\n",
    "https://jupyter.org/try\n",
    "\n",
    "https://colab.research.google.com/notebooks/intro.ipynb?utm_source=scs-index#recent=true"
   ]
  },
  {
   "source": [
    "# Durante a instalação"
   ],
   "cell_type": "markdown",
   "metadata": {}
  },
  {
   "source": [
    "![title](figs/01.png)"
   ],
   "cell_type": "markdown",
   "metadata": {}
  },
  {
   "source": [
    "![title](figs/02.png)"
   ],
   "cell_type": "markdown",
   "metadata": {}
  },
  {
   "cell_type": "code",
   "execution_count": null,
   "metadata": {},
   "outputs": [],
   "source": []
  }
 ],
 "metadata": {
  "kernelspec": {
   "name": "python395jvsc74a57bd0c502f35b5aba8e521fd06a9a43a10d9b724fc242a9a2f5fc70e9d83b65524fa7",
   "display_name": "Python 3.9.5 64-bit ('dsdegree': conda)"
  },
  "language_info": {
   "codemirror_mode": {
    "name": "ipython",
    "version": 3
   },
   "file_extension": ".py",
   "mimetype": "text/x-python",
   "name": "python",
   "nbconvert_exporter": "python",
   "pygments_lexer": "ipython3",
   "version": "3.9.5"
  },
  "varInspector": {
   "cols": {
    "lenName": 16,
    "lenType": 16,
    "lenVar": 40
   },
   "kernels_config": {
    "python": {
     "delete_cmd_postfix": "",
     "delete_cmd_prefix": "del ",
     "library": "var_list.py",
     "varRefreshCmd": "print(var_dic_list())"
    },
    "r": {
     "delete_cmd_postfix": ") ",
     "delete_cmd_prefix": "rm(",
     "library": "var_list.r",
     "varRefreshCmd": "cat(var_dic_list()) "
    }
   },
   "types_to_exclude": [
    "module",
    "function",
    "builtin_function_or_method",
    "instance",
    "_Feature"
   ],
   "window_display": false
  }
 },
 "nbformat": 4,
 "nbformat_minor": 5
}