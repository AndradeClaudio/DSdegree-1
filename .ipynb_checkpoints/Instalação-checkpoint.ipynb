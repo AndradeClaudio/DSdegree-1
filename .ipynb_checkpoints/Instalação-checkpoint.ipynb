{
 "cells": [
  {
   "cell_type": "markdown",
   "id": "1d36bb0b",
   "metadata": {},
   "source": [
    "# Sejam bem vindos"
   ]
  },
  {
   "cell_type": "markdown",
   "id": "7e6fcb59",
   "metadata": {},
   "source": [
    "Apresentação"
   ]
  },
  {
   "cell_type": "code",
   "execution_count": null,
   "id": "15ebce9c",
   "metadata": {},
   "outputs": [],
   "source": []
  },
  {
   "cell_type": "markdown",
   "id": "9ba5406e",
   "metadata": {},
   "source": [
    "## Instalação"
   ]
  },
  {
   "cell_type": "markdown",
   "id": "64be9549",
   "metadata": {
    "ExecuteTime": {
     "end_time": "2021-06-06T22:09:47.106798Z",
     "start_time": "2021-06-06T22:09:47.088861Z"
    }
   },
   "source": [
    "### Anaconda Navigator\n",
    "\n",
    "https://www.anaconda.com/products/individual-b\n",
    "\n",
    "https://docs.anaconda.com/anaconda/navigator/"
   ]
  },
  {
   "cell_type": "markdown",
   "id": "66a7e89f",
   "metadata": {},
   "source": [
    "Para usuários windows, clicar em "
   ]
  },
  {
   "cell_type": "code",
   "execution_count": null,
   "id": "ad45a435",
   "metadata": {},
   "outputs": [],
   "source": []
  },
  {
   "cell_type": "markdown",
   "id": "89fa592f",
   "metadata": {},
   "source": [
    "Esperar, esperar a instalação ser concluída\n",
    "\n",
    "\n",
    "Abrir anaconda navigator"
   ]
  },
  {
   "cell_type": "code",
   "execution_count": null,
   "id": "576ab359",
   "metadata": {},
   "outputs": [],
   "source": [
    "Abrir"
   ]
  }
 ],
 "metadata": {
  "kernelspec": {
   "display_name": "Python 3",
   "language": "python",
   "name": "python3"
  },
  "language_info": {
   "codemirror_mode": {
    "name": "ipython",
    "version": 3
   },
   "file_extension": ".py",
   "mimetype": "text/x-python",
   "name": "python",
   "nbconvert_exporter": "python",
   "pygments_lexer": "ipython3",
   "version": "3.9.5"
  },
  "varInspector": {
   "cols": {
    "lenName": 16,
    "lenType": 16,
    "lenVar": 40
   },
   "kernels_config": {
    "python": {
     "delete_cmd_postfix": "",
     "delete_cmd_prefix": "del ",
     "library": "var_list.py",
     "varRefreshCmd": "print(var_dic_list())"
    },
    "r": {
     "delete_cmd_postfix": ") ",
     "delete_cmd_prefix": "rm(",
     "library": "var_list.r",
     "varRefreshCmd": "cat(var_dic_list()) "
    }
   },
   "types_to_exclude": [
    "module",
    "function",
    "builtin_function_or_method",
    "instance",
    "_Feature"
   ],
   "window_display": false
  }
 },
 "nbformat": 4,
 "nbformat_minor": 5
}
