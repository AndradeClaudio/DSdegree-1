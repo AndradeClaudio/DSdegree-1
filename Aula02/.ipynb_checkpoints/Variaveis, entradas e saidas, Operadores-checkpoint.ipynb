{
 "cells": [
  {
   "cell_type": "markdown",
   "id": "da2263cc",
   "metadata": {},
   "source": [
    "# Aula 2 - Variáveis, entradas e saídas"
   ]
  },
  {
   "cell_type": "markdown",
   "id": "9091b5ce",
   "metadata": {
    "ExecuteTime": {
     "end_time": "2021-06-09T22:28:08.693233Z",
     "start_time": "2021-06-09T22:28:08.678274Z"
    }
   },
   "source": [
    "* No windows: abrir o prompt\n",
    "* No mac/linux: abrir o terminal"
   ]
  },
  {
   "cell_type": "markdown",
   "id": "e52c3b6e",
   "metadata": {
    "ExecuteTime": {
     "end_time": "2021-06-09T22:28:08.693233Z",
     "start_time": "2021-06-09T22:28:08.678274Z"
    }
   },
   "source": [
    "Se temos um ambiente, vamos entrar no ambiente e carregar o jupyter:\n",
    "\n",
    "- conda activate dsdegree\n",
    "- python -m notebook"
   ]
  },
  {
   "cell_type": "code",
   "execution_count": 19,
   "id": "66cc681a",
   "metadata": {
    "ExecuteTime": {
     "end_time": "2021-06-09T22:56:18.059951Z",
     "start_time": "2021-06-09T22:56:18.054949Z"
    }
   },
   "outputs": [],
   "source": [
    "x = 20"
   ]
  },
  {
   "cell_type": "markdown",
   "id": "758e831f",
   "metadata": {},
   "source": [
    "**x** é a variável  \n",
    "**20** é o dado armazenado na variável  \n",
    "**=** operador de atribuição  "
   ]
  },
  {
   "cell_type": "code",
   "execution_count": 8,
   "id": "21dbe567",
   "metadata": {
    "ExecuteTime": {
     "end_time": "2021-06-09T22:37:28.248730Z",
     "start_time": "2021-06-09T22:37:28.242747Z"
    }
   },
   "outputs": [],
   "source": [
    "y = 'Luciano'"
   ]
  },
  {
   "cell_type": "markdown",
   "id": "dc8e76e9",
   "metadata": {
    "ExecuteTime": {
     "end_time": "2021-06-09T22:37:56.117723Z",
     "start_time": "2021-06-09T22:37:56.102772Z"
    }
   },
   "source": [
    "**y** é a variável  \n",
    "**Luciano** é o dado armazenado na variável   \n",
    "**=** operador de atribuição  "
   ]
  },
  {
   "cell_type": "markdown",
   "id": "1be003b2",
   "metadata": {},
   "source": [
    "### Tipos de variáveis"
   ]
  },
  {
   "cell_type": "markdown",
   "id": "9593d4cb",
   "metadata": {},
   "source": [
    "- int: números inteiros, ou seja, números sem parte decimal: 0, 5, -1, 1000\n",
    "- float: números reais, ou seja, números com parte decimal: 1.0, -2.7, 3.14\n",
    "- str: cadeias de caracteres (strings), ou seja, dados textuais: 'Olá Mundo!', \"eu tenho 18 anos\"\n",
    "- bool: valores lógicos (booleanos), ou seja, apenas um entre dois valores possíveis: True ou False"
   ]
  },
  {
   "cell_type": "code",
   "execution_count": 10,
   "id": "da36b77b",
   "metadata": {
    "ExecuteTime": {
     "end_time": "2021-06-09T22:46:34.480317Z",
     "start_time": "2021-06-09T22:46:34.463363Z"
    }
   },
   "outputs": [],
   "source": [
    "idade = 27 # uma variável inteira\n",
    "salario = 5835.87 #decimal no python é \".\" e não vírgula -> variável é do tipo float\n",
    "nome = 'Luciano' # variável do tipo string. STRING  aspas simples ou aspas dupla\n",
    "nome_alternativa = \"Let's Code\" # variavel do tipo string ou str\n",
    "receberNewsletter = True #variavel do tipo booleana ATENÇÃO: primeira letra maiúscula"
   ]
  },
  {
   "cell_type": "markdown",
   "id": "a9a7ce91",
   "metadata": {
    "ExecuteTime": {
     "end_time": "2021-06-09T22:47:04.495429Z",
     "start_time": "2021-06-09T22:47:04.479457Z"
    }
   },
   "source": [
    "## Comentários dentro do código"
   ]
  },
  {
   "cell_type": "code",
   "execution_count": 16,
   "id": "a94036b2",
   "metadata": {
    "ExecuteTime": {
     "end_time": "2021-06-09T22:50:18.376604Z",
     "start_time": "2021-06-09T22:50:18.363637Z"
    }
   },
   "outputs": [
    {
     "data": {
      "text/plain": [
       "'\\nO python irá ignorar um bloco de linhas com aspas triplas\\n'"
      ]
     },
     "execution_count": 16,
     "metadata": {},
     "output_type": "execute_result"
    }
   ],
   "source": [
    "# o python usa o # para comentar uma linha, ou seja, o python vai ignorar tudo que vem depois do # nessa linha\n",
    "\n",
    "'''\n",
    "O python irá ignorar um bloco de linhas com aspas triplas\n",
    "'''\n"
   ]
  },
  {
   "cell_type": "markdown",
   "id": "7b40e1cb",
   "metadata": {},
   "source": [
    "## Saídas"
   ]
  },
  {
   "cell_type": "markdown",
   "id": "ed5a8de6",
   "metadata": {},
   "source": [
    "Dados gerados pelo programa -> função print"
   ]
  },
  {
   "cell_type": "code",
   "execution_count": 17,
   "id": "bd89a92a",
   "metadata": {
    "ExecuteTime": {
     "end_time": "2021-06-09T22:55:33.344564Z",
     "start_time": "2021-06-09T22:55:33.326613Z"
    },
    "scrolled": true
   },
   "outputs": [
    {
     "name": "stdout",
     "output_type": "stream",
     "text": [
      "Olá mundo\n"
     ]
    }
   ],
   "source": [
    "print('Olá mundo')"
   ]
  },
  {
   "cell_type": "code",
   "execution_count": 20,
   "id": "df014cae",
   "metadata": {
    "ExecuteTime": {
     "end_time": "2021-06-09T22:56:39.128294Z",
     "start_time": "2021-06-09T22:56:39.110342Z"
    }
   },
   "outputs": [
    {
     "name": "stdout",
     "output_type": "stream",
     "text": [
      "20\n"
     ]
    }
   ],
   "source": [
    "print(x) # lembrando que dentro da variavel x, tem o dado inteiro 20"
   ]
  },
  {
   "cell_type": "code",
   "execution_count": 21,
   "id": "5ca223fa",
   "metadata": {
    "ExecuteTime": {
     "end_time": "2021-06-09T22:56:43.836979Z",
     "start_time": "2021-06-09T22:56:43.819983Z"
    }
   },
   "outputs": [
    {
     "ename": "NameError",
     "evalue": "name 'z' is not defined",
     "output_type": "error",
     "traceback": [
      "\u001b[1;31m---------------------------------------------------------------------------\u001b[0m",
      "\u001b[1;31mNameError\u001b[0m                                 Traceback (most recent call last)",
      "\u001b[1;32m<ipython-input-21-c01ac3f50fdc>\u001b[0m in \u001b[0;36m<module>\u001b[1;34m\u001b[0m\n\u001b[1;32m----> 1\u001b[1;33m \u001b[0mprint\u001b[0m\u001b[1;33m(\u001b[0m\u001b[0mz\u001b[0m\u001b[1;33m)\u001b[0m\u001b[1;33m\u001b[0m\u001b[1;33m\u001b[0m\u001b[0m\n\u001b[0m",
      "\u001b[1;31mNameError\u001b[0m: name 'z' is not defined"
     ]
    }
   ],
   "source": [
    "print(z) # z não foi definido"
   ]
  },
  {
   "cell_type": "code",
   "execution_count": 24,
   "id": "6f03c82b",
   "metadata": {
    "ExecuteTime": {
     "end_time": "2021-06-09T23:00:44.732777Z",
     "start_time": "2021-06-09T23:00:44.719813Z"
    }
   },
   "outputs": [
    {
     "data": {
      "text/plain": [
       "20"
      ]
     },
     "execution_count": 24,
     "metadata": {},
     "output_type": "execute_result"
    }
   ],
   "source": [
    "# no jupyter não precisa colocar print, se vc o que for gerado estiver na última linha da célula\n",
    "x"
   ]
  },
  {
   "cell_type": "code",
   "execution_count": 25,
   "id": "f6f49dcf",
   "metadata": {
    "ExecuteTime": {
     "end_time": "2021-06-09T23:01:53.278897Z",
     "start_time": "2021-06-09T23:01:53.266933Z"
    }
   },
   "outputs": [
    {
     "data": {
      "text/plain": [
       "20"
      ]
     },
     "execution_count": 25,
     "metadata": {},
     "output_type": "execute_result"
    }
   ],
   "source": [
    "var1 = 20\n",
    "var2 = 30\n",
    "var3 = 50\n",
    "\n",
    "var1"
   ]
  },
  {
   "cell_type": "code",
   "execution_count": 26,
   "id": "7e5bd78a",
   "metadata": {
    "ExecuteTime": {
     "end_time": "2021-06-09T23:02:09.249572Z",
     "start_time": "2021-06-09T23:02:09.243587Z"
    }
   },
   "outputs": [
    {
     "name": "stdout",
     "output_type": "stream",
     "text": [
      "20\n"
     ]
    }
   ],
   "source": [
    "var1 = 20\n",
    "var2 = 30\n",
    "var3 = 50\n",
    "\n",
    "print(var1)"
   ]
  },
  {
   "cell_type": "code",
   "execution_count": 27,
   "id": "98238f4a",
   "metadata": {
    "ExecuteTime": {
     "end_time": "2021-06-09T23:02:21.897340Z",
     "start_time": "2021-06-09T23:02:21.890320Z"
    }
   },
   "outputs": [
    {
     "data": {
      "text/plain": [
       "'Luciano'"
      ]
     },
     "execution_count": 27,
     "metadata": {},
     "output_type": "execute_result"
    }
   ],
   "source": [
    "nome"
   ]
  },
  {
   "cell_type": "code",
   "execution_count": 28,
   "id": "5433d6cd",
   "metadata": {
    "ExecuteTime": {
     "end_time": "2021-06-09T23:02:29.006607Z",
     "start_time": "2021-06-09T23:02:28.987657Z"
    }
   },
   "outputs": [
    {
     "name": "stdout",
     "output_type": "stream",
     "text": [
      "Luciano\n"
     ]
    }
   ],
   "source": [
    "print(nome)"
   ]
  },
  {
   "cell_type": "code",
   "execution_count": null,
   "id": "1b5d040c",
   "metadata": {},
   "outputs": [],
   "source": []
  },
  {
   "cell_type": "code",
   "execution_count": null,
   "id": "f85c8a67",
   "metadata": {},
   "outputs": [],
   "source": []
  },
  {
   "cell_type": "code",
   "execution_count": null,
   "id": "ef7d31c0",
   "metadata": {},
   "outputs": [],
   "source": []
  },
  {
   "cell_type": "code",
   "execution_count": null,
   "id": "2119091f",
   "metadata": {},
   "outputs": [],
   "source": []
  },
  {
   "cell_type": "code",
   "execution_count": null,
   "id": "1cbc2716",
   "metadata": {},
   "outputs": [],
   "source": []
  },
  {
   "cell_type": "code",
   "execution_count": null,
   "id": "06b370a8",
   "metadata": {},
   "outputs": [],
   "source": []
  },
  {
   "cell_type": "code",
   "execution_count": null,
   "id": "cd9c6f46",
   "metadata": {},
   "outputs": [],
   "source": []
  },
  {
   "cell_type": "code",
   "execution_count": null,
   "id": "67157b73",
   "metadata": {},
   "outputs": [],
   "source": []
  },
  {
   "cell_type": "code",
   "execution_count": null,
   "id": "34317ce1",
   "metadata": {},
   "outputs": [],
   "source": []
  },
  {
   "cell_type": "code",
   "execution_count": null,
   "id": "cd1e0c47",
   "metadata": {},
   "outputs": [],
   "source": []
  }
 ],
 "metadata": {
  "kernelspec": {
   "display_name": "Python 3",
   "language": "python",
   "name": "python3"
  },
  "language_info": {
   "codemirror_mode": {
    "name": "ipython",
    "version": 3
   },
   "file_extension": ".py",
   "mimetype": "text/x-python",
   "name": "python",
   "nbconvert_exporter": "python",
   "pygments_lexer": "ipython3",
   "version": "3.9.5"
  },
  "varInspector": {
   "cols": {
    "lenName": 16,
    "lenType": 16,
    "lenVar": 40
   },
   "kernels_config": {
    "python": {
     "delete_cmd_postfix": "",
     "delete_cmd_prefix": "del ",
     "library": "var_list.py",
     "varRefreshCmd": "print(var_dic_list())"
    },
    "r": {
     "delete_cmd_postfix": ") ",
     "delete_cmd_prefix": "rm(",
     "library": "var_list.r",
     "varRefreshCmd": "cat(var_dic_list()) "
    }
   },
   "types_to_exclude": [
    "module",
    "function",
    "builtin_function_or_method",
    "instance",
    "_Feature"
   ],
   "window_display": false
  }
 },
 "nbformat": 4,
 "nbformat_minor": 5
}
