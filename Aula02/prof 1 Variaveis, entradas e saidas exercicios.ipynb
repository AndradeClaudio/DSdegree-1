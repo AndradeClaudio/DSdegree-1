{
 "cells": [
  {
   "cell_type": "markdown",
   "id": "fe902273",
   "metadata": {
    "ExecuteTime": {
     "end_time": "2021-06-07T02:23:54.488614Z",
     "start_time": "2021-06-07T02:23:54.485631Z"
    }
   },
   "source": [
    "# LC | Variáveis, Entradas e Saídas\n"
   ]
  },
  {
   "cell_type": "markdown",
   "id": "5c8ff913",
   "metadata": {},
   "source": [
    "1) Faça um programa que mostre a mensagem \"Olá, mundo!\" na tela."
   ]
  },
  {
   "cell_type": "code",
   "execution_count": 2,
   "id": "a152eb75",
   "metadata": {
    "ExecuteTime": {
     "end_time": "2021-06-07T02:30:20.115567Z",
     "start_time": "2021-06-07T02:30:20.111596Z"
    }
   },
   "outputs": [
    {
     "name": "stdout",
     "output_type": "stream",
     "text": [
      "Olá, mundo!\n"
     ]
    }
   ],
   "source": [
    "print('Olá, mundo!')"
   ]
  },
  {
   "cell_type": "markdown",
   "id": "a78c81fb",
   "metadata": {},
   "source": [
    "2) Faça um programa que peça um número e mostre a mensagem \"O número informado foi [número]\"."
   ]
  },
  {
   "cell_type": "markdown",
   "id": "5bde2919",
   "metadata": {},
   "source": [
    "3) Faça um programa que peça um número para o usuário (string), converta-o para float e depois imprima-o na tela. Você consegue fazer a mesma coisa, porém convertendo para int?"
   ]
  },
  {
   "cell_type": "markdown",
   "id": "f9bb50b3",
   "metadata": {},
   "source": [
    "4) Faça um programa que peça dois números inteiros e imprima a soma deles."
   ]
  },
  {
   "cell_type": "markdown",
   "id": "7064b592",
   "metadata": {},
   "source": [
    "5) Faça um programa que peça as 4 notas bimestrais de um aluno e mostre a média aritmética delas."
   ]
  },
  {
   "cell_type": "markdown",
   "id": "ed98dec3",
   "metadata": {},
   "source": [
    "6) Faça um programa que peça o raio de um círculo, calcule e mostre sua área.\n",
    "\n",
    "Obs: Fórmula da área de um círculo: A = 3,14*(r**2), onde r é o raio."
   ]
  },
  {
   "cell_type": "markdown",
   "id": "29d89e74",
   "metadata": {},
   "source": [
    "7) Faça um programa que pergunte quanto você ganha por hora e o número de horas trabalhadas no mês e depois, calcule e mostre o total do seu salário no referido mês."
   ]
  },
  {
   "cell_type": "markdown",
   "id": "ea20d268",
   "metadata": {},
   "source": [
    "8) Faça um programa que peça a temperatura em graus Fahrenheit (F), transforme e mostre a temperatura em graus Celsius (°C).\n",
    "\n",
    "°C = (5 * (F-32) / 9)\n",
    "\n",
    "Obs: Tente também fazer um programa que faça o inverso: peça a temperatura em graus Celsius e a transforme em graus Fahrenheit."
   ]
  },
  {
   "cell_type": "markdown",
   "id": "b9cb8aea",
   "metadata": {},
   "source": [
    "9) Faça um programa que peça o dia, o mês e o ano para o usuário e imprima a data completa no formato dd/mm/aaaa."
   ]
  },
  {
   "cell_type": "markdown",
   "id": "d478954f",
   "metadata": {},
   "source": [
    "10) Faça um programa que peça 2 números inteiros e um número real, calcule e mostre:\n",
    "\n",
    "a) o produto do dobro do primeiro com metade do segundo.\n",
    "\n",
    "b) a soma do triplo do primeiro com o terceiro.\n",
    "\n",
    "c) o terceiro elevado ao cubo."
   ]
  },
  {
   "cell_type": "markdown",
   "id": "5645f23f",
   "metadata": {},
   "source": [
    "11) Faça um programa que peça o peso e altura de uma pessoa e calcule seu IMC (Índice de Massa Corporal).\n",
    "\n",
    "Obs: IMC = Peso/Altura**2"
   ]
  },
  {
   "cell_type": "markdown",
   "id": "4dc7212f",
   "metadata": {},
   "source": [
    "12) Faça um programa que peça um valor monetário e aumente-o em 15%. Seu programa deve imprimir a mensagem “O novo valor é [valor]”."
   ]
  },
  {
   "cell_type": "markdown",
   "id": "8b1da77d",
   "metadata": {},
   "source": [
    "13) Faça um programa que peça um valor monetário e diminua-o em 15%. Seu programa deve imprimir a mensagem “O novo valor é [valor]”."
   ]
  },
  {
   "cell_type": "code",
   "execution_count": null,
   "id": "b84ded1c",
   "metadata": {},
   "outputs": [],
   "source": []
  },
  {
   "cell_type": "markdown",
   "id": "3aa73005",
   "metadata": {},
   "source": [
    "Desafio 1 - Peça para o usuário digitar uma velocidade inicial (em m/s), uma posição inicial (em m) e um instante de tempo (em s) e imprima a posição de um projétil nesse instante de tempo.\n",
    "\n",
    "Use a fórmula matemática:\n",
    "\n",
    "y(t) = y(0) + v(0)*t + (g*(t**2)/2)\n",
    "\n",
    "Onde, g é a aceleração da gravidade (-10m/s²), y(t) é a posição final, y(0) é a posição inicial, v(0) é a velocidade inicial e t é o instante de tempo."
   ]
  },
  {
   "cell_type": "code",
   "execution_count": 8,
   "id": "bedec673",
   "metadata": {
    "ExecuteTime": {
     "end_time": "2021-06-07T02:43:47.394313Z",
     "start_time": "2021-06-07T02:43:43.610653Z"
    }
   },
   "outputs": [
    {
     "name": "stdout",
     "output_type": "stream",
     "text": [
      "Digite uma velocidade inicial (em m/s): 3\n",
      "Digite uma posição inicial (em m): 2\n",
      "Digite um instante de tempo (em s): 10\n",
      "-468.0\n"
     ]
    }
   ],
   "source": [
    "vo = float(input('Digite uma velocidade inicial (em m/s): '))\n",
    "yo = float(input('Digite uma posição inicial (em m): '))\n",
    "t = float(input('Digite um instante de tempo (em s): '))\n",
    "\n",
    "g=-10\n",
    "y = yo+vo*t+(g*(t**2)/2)\n",
    "print(y)"
   ]
  },
  {
   "cell_type": "markdown",
   "id": "32fbf1e0",
   "metadata": {},
   "source": [
    "Desafio 2 - Faça um programa que informe a data e a hora para o usuário. Para isso use a função datetime.now() do módulo datetime."
   ]
  },
  {
   "cell_type": "code",
   "execution_count": 4,
   "id": "8f8c8fba",
   "metadata": {
    "ExecuteTime": {
     "end_time": "2021-06-07T02:35:16.444456Z",
     "start_time": "2021-06-07T02:35:16.423154Z"
    }
   },
   "outputs": [
    {
     "data": {
      "text/plain": [
       "datetime.datetime(2021, 6, 6, 23, 35, 16, 424018)"
      ]
     },
     "execution_count": 4,
     "metadata": {},
     "output_type": "execute_result"
    }
   ],
   "source": [
    "import datetime as dt\n",
    "\n",
    "dt.datetime.now()"
   ]
  },
  {
   "cell_type": "code",
   "execution_count": null,
   "id": "239c0aaa",
   "metadata": {},
   "outputs": [],
   "source": []
  }
 ],
 "metadata": {
  "kernelspec": {
   "display_name": "Python 3",
   "language": "python",
   "name": "python3"
  },
  "language_info": {
   "codemirror_mode": {
    "name": "ipython",
    "version": 3
   },
   "file_extension": ".py",
   "mimetype": "text/x-python",
   "name": "python",
   "nbconvert_exporter": "python",
   "pygments_lexer": "ipython3",
   "version": "3.9.5"
  },
  "varInspector": {
   "cols": {
    "lenName": 16,
    "lenType": 16,
    "lenVar": 40
   },
   "kernels_config": {
    "python": {
     "delete_cmd_postfix": "",
     "delete_cmd_prefix": "del ",
     "library": "var_list.py",
     "varRefreshCmd": "print(var_dic_list())"
    },
    "r": {
     "delete_cmd_postfix": ") ",
     "delete_cmd_prefix": "rm(",
     "library": "var_list.r",
     "varRefreshCmd": "cat(var_dic_list()) "
    }
   },
   "types_to_exclude": [
    "module",
    "function",
    "builtin_function_or_method",
    "instance",
    "_Feature"
   ],
   "window_display": false
  }
 },
 "nbformat": 4,
 "nbformat_minor": 5
}
