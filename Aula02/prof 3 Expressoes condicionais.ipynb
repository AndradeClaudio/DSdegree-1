{
 "metadata": {
  "language_info": {
   "codemirror_mode": {
    "name": "ipython",
    "version": 3
   },
   "file_extension": ".py",
   "mimetype": "text/x-python",
   "name": "python",
   "nbconvert_exporter": "python",
   "pygments_lexer": "ipython3",
   "version": "3.9.5"
  },
  "orig_nbformat": 2,
  "kernelspec": {
   "name": "python395jvsc74a57bd0c502f35b5aba8e521fd06a9a43a10d9b724fc242a9a2f5fc70e9d83b65524fa7",
   "display_name": "Python 3.9.5 64-bit ('dsdegree': conda)"
  }
 },
 "nbformat": 4,
 "nbformat_minor": 2,
 "cells": [
  {
   "source": [
    "# Expressões condicionais"
   ],
   "cell_type": "markdown",
   "metadata": {}
  },
  {
   "source": [
    "1.1. Se  \n",
    "Os programas do capítulo Operações Lógicas não são \"amigáveis\" para o usuário. Ao invés de mostrar True ou False, por exemplo, seria mais útil exibir se o aluno foi \"Aprovado\" ou \"Reprovado\". Para que possamos escrever na tela as mensagens \"Aprovado\" ou \"Reprovado\", é necessário que haja em algum ponto do código o trecho print('Aprovado') e o trecho print('Reprovado'). Porém, não gostaríamos que ambos fossem exibidos ao mesmo tempo. Uma condicional é uma instrução em Python que decide se outras linhas serão ou não executadas dependendo do resultado de uma condição (operação lógica). Se a condição for verdadeira, as linhas são executadas. Senão, são ignoradas. A condicional mais básica em Python é o if (se):"
   ],
   "cell_type": "markdown",
   "metadata": {}
  },
  {
   "cell_type": "code",
   "execution_count": null,
   "metadata": {},
   "outputs": [],
   "source": [
    "nota1 = float(input('Digite a nota 1: '))\n",
    "nota2 = float(input('Digite a noat 2: '))\n",
    "\n",
    "media = (nota1 + nota2)/2\n",
    "\n",
    "if media >= 6.0:\n",
    "    print('Aprovado')\n",
    "print('Média: ', media)"
   ]
  },
  {
   "source": [
    "Execute o programa acima. Note que se (if) a média é maior ou igual a 6.0, ele exibe a mensagem \"Aprovado\" e depois a média. Caso contrário, ele apenas exibe a média.\n",
    "\n",
    "\n",
    "    Para dizermos que uma ou mais linhas \"pertencem\" ao nosso if, usamos um símbolo de parágrafo (tecla \"Tab\" no teclado). O programa sabe que o if \"acabou\" quando as linhas param de ter \"tabs\". Esses tabs são chamados de indentação.*"
   ],
   "cell_type": "markdown",
   "metadata": {}
  },
  {
   "source": [
    "1.2. Senão\n",
    "\n",
    "\n",
    "Note que conseguimos fazer nosso programa decidir se ele exibe a mensagem \"Aprovado\" ou não. O próximo passo seria fazer ele decidir entre 2 mensagens diferentes: \"Aprovado\" ou \"Reprovado\". Um primeiro jeito de fazer isso seria um segundo if invertendo a condição:"
   ],
   "cell_type": "markdown",
   "metadata": {}
  },
  {
   "cell_type": "code",
   "execution_count": null,
   "metadata": {},
   "outputs": [],
   "source": [
    "nota1 = float(input('Digite a nota 1: '))\n",
    "nota2 = float(input('Digite a noat 2: '))\n",
    "\n",
    "media = (nota1 + nota2)/2\n",
    "\n",
    "if media >= 6.0:\n",
    "    print('Aprovado')\n",
    "if media < 6.0:\n",
    "    print('Reprovado')\n",
    "\n",
    "print('Média: ', media)"
   ]
  },
  {
   "source": [
    "O programa acima funciona. Porém, conforme nossos programas começam a ficar mais complexos e nossos if começam a ter linhas demais, podemos nos perder e esquecer que esses 2 if são 2 casos mutuamente exclusivos. Pior ainda, podemos vir a acrescentar condições novas em um e esquecer de atualizar no outro. Em casos onde temos condições mutuamente exclusivas, podemos utilizar um par if/else (se/senão). Se a condição for verdadeira, faça tal coisa. Senão, faça outra coisa."
   ],
   "cell_type": "markdown",
   "metadata": {}
  },
  {
   "source": [
    "nota1 = float(input('Digite a nota 1: '))\n",
    "nota2 = float(input('Digite a noat 2: '))\n",
    "\n",
    "media = (nota1 + nota2)/2\n",
    "\n",
    "if media >= 6.0:\n",
    "    print('Aprovado')\n",
    "else:\n",
    "    print('Reprovado')\n",
    "\n",
    "print('Média: ', media)"
   ],
   "cell_type": "code",
   "metadata": {},
   "execution_count": 2,
   "outputs": [
    {
     "output_type": "error",
     "ename": "ValueError",
     "evalue": "could not convert string to float: ''",
     "traceback": [
      "\u001b[1;31m---------------------------------------------------------------------------\u001b[0m",
      "\u001b[1;31mValueError\u001b[0m                                Traceback (most recent call last)",
      "\u001b[1;32m<ipython-input-2-0641d8923e36>\u001b[0m in \u001b[0;36m<module>\u001b[1;34m\u001b[0m\n\u001b[1;32m----> 1\u001b[1;33m \u001b[0mnota1\u001b[0m \u001b[1;33m=\u001b[0m \u001b[0mfloat\u001b[0m\u001b[1;33m(\u001b[0m\u001b[0minput\u001b[0m\u001b[1;33m(\u001b[0m\u001b[1;34m'Digite a nota 1: '\u001b[0m\u001b[1;33m)\u001b[0m\u001b[1;33m)\u001b[0m\u001b[1;33m\u001b[0m\u001b[1;33m\u001b[0m\u001b[0m\n\u001b[0m\u001b[0;32m      2\u001b[0m \u001b[0mnota2\u001b[0m \u001b[1;33m=\u001b[0m \u001b[0mfloat\u001b[0m\u001b[1;33m(\u001b[0m\u001b[0minput\u001b[0m\u001b[1;33m(\u001b[0m\u001b[1;34m'Digite a noat 2: '\u001b[0m\u001b[1;33m)\u001b[0m\u001b[1;33m)\u001b[0m\u001b[1;33m\u001b[0m\u001b[1;33m\u001b[0m\u001b[0m\n\u001b[0;32m      3\u001b[0m \u001b[1;33m\u001b[0m\u001b[0m\n\u001b[0;32m      4\u001b[0m \u001b[0mmedia\u001b[0m \u001b[1;33m=\u001b[0m \u001b[1;33m(\u001b[0m\u001b[0mnota1\u001b[0m \u001b[1;33m+\u001b[0m \u001b[0mnota2\u001b[0m\u001b[1;33m)\u001b[0m\u001b[1;33m/\u001b[0m\u001b[1;36m2\u001b[0m\u001b[1;33m\u001b[0m\u001b[1;33m\u001b[0m\u001b[0m\n\u001b[0;32m      5\u001b[0m \u001b[1;33m\u001b[0m\u001b[0m\n",
      "\u001b[1;31mValueError\u001b[0m: could not convert string to float: ''"
     ]
    }
   ]
  },
  {
   "source": [
    "Note que o else não possui condição. A condição dele é implícita: é a negação da condição do if. Se o if executar, o else não executa e vice-versa. Consequentemente, o else não pode existir sem um if."
   ],
   "cell_type": "markdown",
   "metadata": {}
  },
  {
   "source": [
    "3. Aninhando condições\n",
    "É possível aninhar condições: ou seja, colocar um novo if dentro de outro if ou else. Imagine que nossa escola não reprova direto o aluno com nota inferior a 6, e sim permite que ele faça uma recuperação. Porém, o aluno precisa ter tirado no mínimo média 3 para que permitam que faça a recuperação. Assim temos:\n",
    "\n",
    "- Se nota maior ou igual a 6: aprovado.\n",
    "- Senão:\n",
    "    - Se nota entre 6 e 3: recuperação.\n",
    "    - Senão, reprovado. Em Python:"
   ],
   "cell_type": "markdown",
   "metadata": {}
  },
  {
   "cell_type": "code",
   "execution_count": 3,
   "metadata": {},
   "outputs": [
    {
     "output_type": "error",
     "ename": "ValueError",
     "evalue": "could not convert string to float: ''",
     "traceback": [
      "\u001b[1;31m---------------------------------------------------------------------------\u001b[0m",
      "\u001b[1;31mValueError\u001b[0m                                Traceback (most recent call last)",
      "\u001b[1;32m<ipython-input-3-3bea4c20e1f2>\u001b[0m in \u001b[0;36m<module>\u001b[1;34m\u001b[0m\n\u001b[1;32m----> 1\u001b[1;33m \u001b[0mnota1\u001b[0m \u001b[1;33m=\u001b[0m \u001b[0mfloat\u001b[0m\u001b[1;33m(\u001b[0m\u001b[0minput\u001b[0m\u001b[1;33m(\u001b[0m\u001b[1;34m'Digite a nota 1: '\u001b[0m\u001b[1;33m)\u001b[0m\u001b[1;33m)\u001b[0m\u001b[1;33m\u001b[0m\u001b[1;33m\u001b[0m\u001b[0m\n\u001b[0m\u001b[0;32m      2\u001b[0m \u001b[0mnota2\u001b[0m \u001b[1;33m=\u001b[0m \u001b[0mfloat\u001b[0m\u001b[1;33m(\u001b[0m\u001b[0minput\u001b[0m\u001b[1;33m(\u001b[0m\u001b[1;34m'Digite a noat 2: '\u001b[0m\u001b[1;33m)\u001b[0m\u001b[1;33m)\u001b[0m\u001b[1;33m\u001b[0m\u001b[1;33m\u001b[0m\u001b[0m\n\u001b[0;32m      3\u001b[0m \u001b[1;33m\u001b[0m\u001b[0m\n\u001b[0;32m      4\u001b[0m \u001b[0mmedia\u001b[0m \u001b[1;33m=\u001b[0m \u001b[1;33m(\u001b[0m\u001b[0mnota1\u001b[0m \u001b[1;33m+\u001b[0m \u001b[0mnota2\u001b[0m\u001b[1;33m)\u001b[0m\u001b[1;33m/\u001b[0m\u001b[1;36m2\u001b[0m\u001b[1;33m\u001b[0m\u001b[1;33m\u001b[0m\u001b[0m\n\u001b[0;32m      5\u001b[0m \u001b[1;33m\u001b[0m\u001b[0m\n",
      "\u001b[1;31mValueError\u001b[0m: could not convert string to float: ''"
     ]
    }
   ],
   "source": [
    "nota1 = float(input('Digite a nota 1: '))\n",
    "nota2 = float(input('Digite a noat 2: '))\n",
    "\n",
    "media = (nota1 + nota2)/2\n",
    "\n",
    "if media >= 6.0:\n",
    "    print('Aprovado')\n",
    "else:\n",
    "    if media >= 3.0:\n",
    "        print('Recuperação')\n",
    "    else:\n",
    "        print('Reprovado')\n",
    "\n",
    "print('Média: ', media)"
   ]
  },
  {
   "source": [
    "1.4. Senão-se  \n",
    "Note que se começarmos a aninhar muitas condições (if dentro de else dentro de else dentro de else...), nosso código pode começar a ficar confuso, com a aparência de uma \"escadinha\":"
   ],
   "cell_type": "markdown",
   "metadata": {}
  },
  {
   "source": [
    "Se  \n",
    "Senão:  \n",
    "    Se  \n",
    "    Senão:  \n",
    "        Se\n",
    "        Senão:\n",
    "            Se:\n",
    "            Senão:\n",
    "                Se:\n",
    "                 ..."
   ],
   "cell_type": "code",
   "metadata": {},
   "execution_count": null,
   "outputs": []
  },
  {
   "source": [
    "Isso pode tornar o código bastante complexo e difícil de atualizar ou corrigir erros posteriormente. Para quebrar a \"escadinha\", existe a possibilidade de juntarmos o \"se\" do próximo nível com o \"senão\" do nível anterior: o elif: else + if (senão + se). O elif só é executado se um if der errado (ou seja, ele é um else), mas ele também tem uma condição que deve ser respeitada (ou seja ele também é um if). Podemos reescrever nosso código anterior utilizando um elif:"
   ],
   "cell_type": "markdown",
   "metadata": {}
  },
  {
   "cell_type": "code",
   "execution_count": null,
   "metadata": {},
   "outputs": [],
   "source": [
    "nota1 = float(input('Digite a nota 1: '))\n",
    "nota2 = float(input('Digite a noat 2: '))\n",
    "\n",
    "media = (nota1 + nota2)/2\n",
    "\n",
    "if media >= 6.0:\n",
    "    print('Aprovado')\n",
    "elif media >= 3.0:\n",
    "    print('Recuperação')\n",
    "else:\n",
    "    print('Reprovado')\n",
    "\n",
    "print('Média: ', media)"
   ]
  },
  {
   "source": [
    "Podemos usar quantos elif nós quisermos. Sempre que um deles der errado, o próximo será testado. Quando algum deles der certo, todo o restante será ignorado. Opcionalmente, podemos ter um else ao final do bloco, que só será executado se o if e todos os elif derem errado. O bloco obrigatoriamente deve ser iniciado com um if."
   ],
   "cell_type": "markdown",
   "metadata": {}
  }
 ]
}