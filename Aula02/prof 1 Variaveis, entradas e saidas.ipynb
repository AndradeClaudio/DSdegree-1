{
 "cells": [
  {
   "cell_type": "markdown",
   "id": "528f9946",
   "metadata": {},
   "source": [
    "# Variáveis, entradas e saídas"
   ]
  },
  {
   "cell_type": "markdown",
   "id": "f58b8eba",
   "metadata": {},
   "source": [
    "## 1. Variáveis"
   ]
  },
  {
   "cell_type": "markdown",
   "id": "0d5d9d19",
   "metadata": {},
   "source": [
    "Variáveis são \"pedacinhos de memória\" onde guardamos dados. Sempre que referenciamos o nome, o pedacinho de memória é acessado e seu dado é recuperado.\n",
    "\n",
    "Criamos variáveis dando um nome a elas e usando o operador de atribuição (o sinal de igualdade: =) para atribuir um valor inicial."
   ]
  },
  {
   "cell_type": "code",
   "execution_count": 1,
   "id": "1fb8c806",
   "metadata": {
    "ExecuteTime": {
     "end_time": "2021-06-07T02:08:02.158532Z",
     "start_time": "2021-06-07T02:08:02.150594Z"
    }
   },
   "outputs": [],
   "source": [
    "x = 10"
   ]
  },
  {
   "cell_type": "markdown",
   "id": "cb400414",
   "metadata": {},
   "source": [
    "No exemplo acima, foi criada uma variável chamada x que guarda o valor 10. Ou seja, reservamos um pedacinho de memória e guardamos o número 10 lá."
   ]
  },
  {
   "cell_type": "markdown",
   "id": "efd1a230",
   "metadata": {},
   "source": [
    "## 2. Tipos de variáveis"
   ]
  },
  {
   "cell_type": "markdown",
   "id": "625b887e",
   "metadata": {},
   "source": [
    "Variáveis em Python possuem 4 tipos básicos:\n",
    "\n",
    "- int: números inteiros, ou seja, números sem parte decimal: 0, 5, -1, 1000\n",
    "- float: números reais, ou seja, números com parte decimal: 1.0, -2.7, 3.14\n",
    "- str: cadeias de caracteres (strings), ou seja, dados textuais: 'Olá Mundo!', \"eu tenho 18 anos\"\n",
    "- bool: valores lógicos (booleanos), ou seja, apenas um entre dois valores possíveis: True ou False"
   ]
  },
  {
   "cell_type": "code",
   "execution_count": 2,
   "id": "cc7bfe5b",
   "metadata": {
    "ExecuteTime": {
     "end_time": "2021-06-07T02:09:33.904132Z",
     "start_time": "2021-06-07T02:09:33.888175Z"
    }
   },
   "outputs": [],
   "source": [
    "nome = 'Zé' # uma variável do tipo string - note as aspas\n",
    "email = \"ze@letscode.com.br\" # outra string\n",
    "idade = 22 # uma variável inteira\n",
    "salario = 5999.85 # uma variável float - usamos ponto, não vírgula\n",
    "receberNewsletter = True # uma variável bool"
   ]
  },
  {
   "cell_type": "markdown",
   "id": "ea243bbf",
   "metadata": {},
   "source": [
    "Dica: Tente sempre utilizar nomes intuitivos para suas variáveis. O nome deveria ser uma boa descrição do dado que a variável guarda. Nomes como 'x', 'y', 'z', 'a', 'b', 'c', 'a1', 'a2', 'a3' etc podem se tornar bastante confusos quando nossos códigos são muito grandes."
   ]
  },
  {
   "cell_type": "markdown",
   "id": "42ba79d8",
   "metadata": {},
   "source": [
    "## 3. Comentários"
   ]
  },
  {
   "cell_type": "markdown",
   "id": "b58a772f",
   "metadata": {},
   "source": [
    "Note que nos exemplos acima, escrevemos textos no meio do código utilizando o símbolo #. Esses textos são comentários: quando utilizamos o símbolo #, o Python irá ignorar tudo o que vier em seguida (na mesma linha). Utilizamos comentários para explicar pedaços do nosso código para que nós mesmos ou outros colegas no futuro entendam o que fizemos e possam modificar ou corrigir o código com mais facilidade. Também podemos escrever comentários de múltiplas linhas utilizando aspas triplas - neste caso, utilizamos-as para abrir e depois para fechar o bloco de comentários."
   ]
  },
  {
   "cell_type": "code",
   "execution_count": 3,
   "id": "e8ec2ab2",
   "metadata": {
    "ExecuteTime": {
     "end_time": "2021-06-07T02:11:20.792555Z",
     "start_time": "2021-06-07T02:11:20.775601Z"
    }
   },
   "outputs": [
    {
     "data": {
      "text/plain": [
       "'\\nEste é um comentário de várias linhas.\\nTudo que veio após o primeiro trio de aspas e antes do segundo\\nserá ignorado pelo Python.\\n'"
      ]
     },
     "execution_count": 3,
     "metadata": {},
     "output_type": "execute_result"
    }
   ],
   "source": [
    "'''\n",
    "Este é um comentário de várias linhas.\n",
    "Tudo que veio após o primeiro trio de aspas e antes do segundo\n",
    "será ignorado pelo Python.\n",
    "'''"
   ]
  },
  {
   "cell_type": "markdown",
   "id": "c7d97edf",
   "metadata": {},
   "source": [
    "## 4. Saídas"
   ]
  },
  {
   "cell_type": "markdown",
   "id": "b34f79f5",
   "metadata": {},
   "source": [
    "Chamamos de saídas do nosso programa todos os dados que são gerados pelo programa e serão fornecidos para o usuário. A função de saída em tela no Python é o print. Colocamos entre parênteses o dado que queremos que apareça."
   ]
  },
  {
   "cell_type": "code",
   "execution_count": 4,
   "id": "63879b39",
   "metadata": {
    "ExecuteTime": {
     "end_time": "2021-06-07T02:12:10.657824Z",
     "start_time": "2021-06-07T02:12:10.649804Z"
    }
   },
   "outputs": [
    {
     "name": "stdout",
     "output_type": "stream",
     "text": [
      "olá mundo!\n"
     ]
    }
   ],
   "source": [
    "print('olá mundo!') # exibe a frase 'olá mundo' na tela"
   ]
  },
  {
   "cell_type": "markdown",
   "id": "22816384",
   "metadata": {},
   "source": [
    "Os dados a serem exibidos não precisam ser valores constantes, como a frase fixa acima. Eles podem ser variáveis:"
   ]
  },
  {
   "cell_type": "code",
   "execution_count": 5,
   "id": "1a21e258",
   "metadata": {
    "ExecuteTime": {
     "end_time": "2021-06-07T02:12:25.541647Z",
     "start_time": "2021-06-07T02:12:25.526646Z"
    }
   },
   "outputs": [
    {
     "name": "stdout",
     "output_type": "stream",
     "text": [
      "20\n"
     ]
    }
   ],
   "source": [
    "idade = 20\n",
    "print(idade)"
   ]
  },
  {
   "cell_type": "markdown",
   "id": "ca835792",
   "metadata": {},
   "source": [
    "Note que quando usamos aspas, o Python trata o valor como uma string, um texto literal. Quando não usamos aspas, o Python irá considerar que aquele é o nome de uma variável e irá acessá-la para buscar seu valor."
   ]
  },
  {
   "cell_type": "markdown",
   "id": "4c0897db",
   "metadata": {},
   "source": [
    "Podemos exibir múltiplos dados em um print. Para isso, basta separá-los por vírgula e eles irão aparecer na tela na mesma ordem que apareceram no código:"
   ]
  },
  {
   "cell_type": "code",
   "execution_count": 7,
   "id": "905cbf0f",
   "metadata": {
    "ExecuteTime": {
     "end_time": "2021-06-07T02:13:22.176954Z",
     "start_time": "2021-06-07T02:13:22.163984Z"
    }
   },
   "outputs": [
    {
     "name": "stdout",
     "output_type": "stream",
     "text": [
      "Oi, eu sou o Mario e eu programo em Python\n"
     ]
    },
    {
     "data": {
      "text/plain": [
       "'\\nResultado na tela:\\nOi, eu sou o Mario e eu programo em Python\\n'"
      ]
     },
     "execution_count": 7,
     "metadata": {},
     "output_type": "execute_result"
    }
   ],
   "source": [
    "nome = 'Mario'\n",
    "linguagem = 'Python'\n",
    "print('Oi, eu sou o', nome, 'e eu programo em', linguagem)\n",
    "\n",
    "'''\n",
    "Resultado na tela:\n",
    "Oi, eu sou o Mario e eu programo em Python\n",
    "'''"
   ]
  },
  {
   "cell_type": "markdown",
   "id": "cc1d1eec",
   "metadata": {},
   "source": [
    "## 5. Entradas"
   ]
  },
  {
   "cell_type": "markdown",
   "id": "23d395a7",
   "metadata": {},
   "source": [
    "Assim como temos dados de saída - dados gerados pelo código e fornecidos para o usuário - também temos dados de entrada: informações que o usuário possuí e deve fornecer ao código. Para receber entradas pelo teclado, utilizaremos a função input. Devemos fazer uma variável receber o valor capturado pelo input."
   ]
  },
  {
   "cell_type": "code",
   "execution_count": 8,
   "id": "54e33bf3",
   "metadata": {
    "ExecuteTime": {
     "end_time": "2021-06-07T02:13:57.758474Z",
     "start_time": "2021-06-07T02:13:51.243664Z"
    }
   },
   "outputs": [
    {
     "name": "stdout",
     "output_type": "stream",
     "text": [
      "Renata\n",
      "Olá Renata\n"
     ]
    }
   ],
   "source": [
    "nome = input()\n",
    "print('Olá', nome)"
   ]
  },
  {
   "cell_type": "markdown",
   "id": "559e87d6",
   "metadata": {},
   "source": [
    "O programa acima captura o nome do usuário e em seguida mostra a mensagem \"olá\" seguida do nome do usuário. Note que o programa fica parado em uma tela em branco com um cursor piscando aguardando a digitação pelo usuário. Isso pode ser confuso para o usuário, que não sabe o que o programa está esperando. Por isso, dentro dos parênteses do input podemos colocar uma mensagem simples informando o que o programa gostaria que ele fizesse:"
   ]
  },
  {
   "cell_type": "code",
   "execution_count": 10,
   "id": "2f58968d",
   "metadata": {
    "ExecuteTime": {
     "end_time": "2021-06-07T02:14:35.868950Z",
     "start_time": "2021-06-07T02:14:33.630808Z"
    }
   },
   "outputs": [
    {
     "name": "stdout",
     "output_type": "stream",
     "text": [
      "Qual é o seu nome? Renata\n",
      "Olá Renata\n"
     ]
    }
   ],
   "source": [
    "nome = input('Qual é o seu nome? ')\n",
    "print('Olá', nome)"
   ]
  },
  {
   "cell_type": "markdown",
   "id": "0bb52fa4",
   "metadata": {
    "ExecuteTime": {
     "end_time": "2021-06-07T02:14:54.368301Z",
     "start_time": "2021-06-07T02:14:54.359326Z"
    }
   },
   "source": [
    "### 5.1 Determinando o tipo da entrada"
   ]
  },
  {
   "cell_type": "markdown",
   "id": "7ecbb6bb",
   "metadata": {},
   "source": [
    "Vamos imaginar um programa que informa quantos anos falta para que uma criança atinja a maioridade. Podemos ler a idade da criança pelo teclado (entrada), subtrair a idade do número 18 (processamento) e exibir o resultado da conta na tela (saída). Considere a solução abaixo:"
   ]
  },
  {
   "cell_type": "code",
   "execution_count": 15,
   "id": "95c1a75e",
   "metadata": {
    "ExecuteTime": {
     "end_time": "2021-06-07T02:17:03.181641Z",
     "start_time": "2021-06-07T02:17:00.814308Z"
    }
   },
   "outputs": [
    {
     "name": "stdout",
     "output_type": "stream",
     "text": [
      "Digite a sua idade: 7\n"
     ]
    },
    {
     "ename": "TypeError",
     "evalue": "unsupported operand type(s) for -: 'int' and 'str'",
     "output_type": "error",
     "traceback": [
      "\u001b[1;31m---------------------------------------------------------------------------\u001b[0m",
      "\u001b[1;31mTypeError\u001b[0m                                 Traceback (most recent call last)",
      "\u001b[1;32m<ipython-input-15-711bb1b7bfce>\u001b[0m in \u001b[0;36m<module>\u001b[1;34m\u001b[0m\n\u001b[0;32m      1\u001b[0m \u001b[0midade\u001b[0m \u001b[1;33m=\u001b[0m \u001b[0minput\u001b[0m\u001b[1;33m(\u001b[0m\u001b[1;34m'Digite a sua idade: '\u001b[0m\u001b[1;33m)\u001b[0m\u001b[1;33m\u001b[0m\u001b[1;33m\u001b[0m\u001b[0m\n\u001b[1;32m----> 2\u001b[1;33m \u001b[0mresto\u001b[0m \u001b[1;33m=\u001b[0m \u001b[1;36m18\u001b[0m \u001b[1;33m-\u001b[0m \u001b[0midade\u001b[0m\u001b[1;33m\u001b[0m\u001b[1;33m\u001b[0m\u001b[0m\n\u001b[0m\u001b[0;32m      3\u001b[0m \u001b[0mprint\u001b[0m\u001b[1;33m(\u001b[0m\u001b[1;34m'Faltam'\u001b[0m\u001b[1;33m,\u001b[0m \u001b[0mresto\u001b[0m\u001b[1;33m,\u001b[0m \u001b[1;34m'anos.'\u001b[0m\u001b[1;33m)\u001b[0m\u001b[1;33m\u001b[0m\u001b[1;33m\u001b[0m\u001b[0m\n",
      "\u001b[1;31mTypeError\u001b[0m: unsupported operand type(s) for -: 'int' and 'str'"
     ]
    }
   ],
   "source": [
    "idade = input('Digite a sua idade: ')\n",
    "resto = 18 - idade\n",
    "print('Faltam', resto, 'anos.')"
   ]
  },
  {
   "cell_type": "markdown",
   "id": "a56e0223",
   "metadata": {},
   "source": [
    "Se você copiar e executar o programa, ele dará erro na segunda linha. Isso ocorre porque o teclado é uma \"máquina de escrever\" um pouco mais moderna. Portanto, tudo que entra pelo teclado é considerado pelo Python como texto (ou seja, str). Porém, não podemos \"fazer contas\" com textos. Fazemos contas com números. Portanto, neste caso, precisamos falar para o Python interpretar a nossa entrada como um número. Um bom tipo de dado para \"idade\" seria um número inteiro. Fazemos isso colocando o nome do tipo desejado, e entre parênteses colocamos nosso input:"
   ]
  },
  {
   "cell_type": "code",
   "execution_count": 16,
   "id": "2fb2cb7d",
   "metadata": {
    "ExecuteTime": {
     "end_time": "2021-06-07T02:17:20.853123Z",
     "start_time": "2021-06-07T02:17:18.662938Z"
    }
   },
   "outputs": [
    {
     "name": "stdout",
     "output_type": "stream",
     "text": [
      "Digite a sua idade: 7\n",
      "Faltam 11 anos.\n"
     ]
    }
   ],
   "source": [
    "idade = int(input('Digite a sua idade: '))\n",
    "resto = 18 - idade\n",
    "print('Faltam', resto, 'anos.')"
   ]
  },
  {
   "cell_type": "markdown",
   "id": "183c3ea1",
   "metadata": {},
   "source": [
    "## 6. Operadores"
   ]
  },
  {
   "cell_type": "markdown",
   "id": "429ebe1d",
   "metadata": {
    "ExecuteTime": {
     "end_time": "2021-06-07T02:18:05.254421Z",
     "start_time": "2021-06-07T02:18:05.238429Z"
    }
   },
   "source": [
    "Como podemos observar no exemplo anterior, o Python faz operações aritméticas de maneira bastante intuitiva, similar ao que estamos acostumados. Os operadores aceitos são:\n",
    "\n",
    "- Soma: +\n",
    "- Subtração: -\n",
    "- Multiplicação: *\n",
    "- Divisão: /\n",
    "- Divisão inteira: //\n",
    "- Resto da divisão: %\n",
    "- Potência: **"
   ]
  },
  {
   "cell_type": "code",
   "execution_count": 19,
   "id": "eaded042",
   "metadata": {
    "ExecuteTime": {
     "end_time": "2021-06-07T02:19:13.103735Z",
     "start_time": "2021-06-07T02:19:07.769633Z"
    }
   },
   "outputs": [
    {
     "name": "stdout",
     "output_type": "stream",
     "text": [
      "Digite um número: 20\n",
      "Digite outro número: 30\n",
      "Soma:  50\n",
      "Subtração:  -10\n",
      "Multiplicação:  600\n",
      "Divisão:  0.6666666666666666\n",
      "Divisão inteira:  0\n",
      "Resto da divisão:  20\n",
      "Potência:  1073741824000000000000000000000000000000\n"
     ]
    }
   ],
   "source": [
    "numero1 = int(input('Digite um número: '))\n",
    "numero2 = int(input('Digite outro número: ')) #---------> corrigir no material\n",
    "soma = numero1 + numero2\n",
    "subtracao = numero1 - numero2\n",
    "multiplicacao = numero1 * numero2\n",
    "divisao = numero1 / numero2\n",
    "divinteira = numero1 // numero2\n",
    "resto = numero1 % numero2\n",
    "elevado = numero1 ** numero2\n",
    "print('Soma: ', soma)\n",
    "print('Subtração: ', subtracao)\n",
    "print('Multiplicação: ', multiplicacao)\n",
    "print('Divisão: ', divisao)\n",
    "print('Divisão inteira: ', divinteira)\n",
    "print('Resto da divisão: ', resto)\n",
    "print('Potência: ', elevado)"
   ]
  },
  {
   "cell_type": "markdown",
   "id": "858d7340",
   "metadata": {},
   "source": [
    "**Operadores de divisão:** *Note que temos 3 operadores de divisão. O que seria cada um deles? Vamos supor que numero1 seja 15 e numero2 seja 6. Ao calcular essa divisão, chegamos na seguinte situação:*\n",
    "\n",
    "15 |__ 6  \n",
    "03 | 2\n",
    "\n",
    "*Note que, considerando apenas números inteiros, não conseguimos mais prosseguir com a divisão. Neste caso, a divisão inteira (numero1 // numero2) dará 2. Já o resto da divisão (numero1 % numero2) dará 3. Porém, considerando casas decimais é possível prosseguir com a divisão:*\n",
    "\n",
    "15 |__ 6  \n",
    "30 | 2,5  \n",
    "0  \n",
    "*Portanto, a divisão comum (numero1 / numero2) dará 2.5.*"
   ]
  },
  {
   "cell_type": "code",
   "execution_count": null,
   "id": "ed15adbd",
   "metadata": {},
   "outputs": [],
   "source": []
  }
 ],
 "metadata": {
  "kernelspec": {
   "display_name": "Python 3",
   "language": "python",
   "name": "python3"
  },
  "language_info": {
   "codemirror_mode": {
    "name": "ipython",
    "version": 3
   },
   "file_extension": ".py",
   "mimetype": "text/x-python",
   "name": "python",
   "nbconvert_exporter": "python",
   "pygments_lexer": "ipython3",
   "version": "3.9.5"
  },
  "varInspector": {
   "cols": {
    "lenName": 16,
    "lenType": 16,
    "lenVar": 40
   },
   "kernels_config": {
    "python": {
     "delete_cmd_postfix": "",
     "delete_cmd_prefix": "del ",
     "library": "var_list.py",
     "varRefreshCmd": "print(var_dic_list())"
    },
    "r": {
     "delete_cmd_postfix": ") ",
     "delete_cmd_prefix": "rm(",
     "library": "var_list.r",
     "varRefreshCmd": "cat(var_dic_list()) "
    }
   },
   "types_to_exclude": [
    "module",
    "function",
    "builtin_function_or_method",
    "instance",
    "_Feature"
   ],
   "window_display": false
  }
 },
 "nbformat": 4,
 "nbformat_minor": 5
}
